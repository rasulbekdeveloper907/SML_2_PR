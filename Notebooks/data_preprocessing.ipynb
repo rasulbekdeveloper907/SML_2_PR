{
 "cells": [
  {
   "cell_type": "code",
   "execution_count": null,
   "id": "ddd2e906",
   "metadata": {},
   "outputs": [],
   "source": []
  }
 ],
 "metadata": {
  "language_info": {
   "name": "python"
  }
 },
 "nbformat": 4,
 "nbformat_minor": 5
}

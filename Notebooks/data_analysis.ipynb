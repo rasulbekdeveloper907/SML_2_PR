{
 "cells": [
  {
   "cell_type": "code",
   "execution_count": 1,
   "id": "7c4ea2c9",
   "metadata": {},
   "outputs": [],
   "source": [
    "import pandas as pd "
   ]
  },
  {
   "cell_type": "code",
   "execution_count": 2,
   "id": "2d80c604",
   "metadata": {},
   "outputs": [],
   "source": [
    "import pandas as pd\n",
    "import logging\n",
    "\n",
    "# Log fayl manzili\n",
    "log_path = r\"C:\\Users\\Rasulbek907\\Desktop\\SML_2_Pr\\Log\\data_loader.log\"\n",
    "\n",
    "# Log sozlamalari\n",
    "logging.basicConfig(\n",
    "    filename=log_path,\n",
    "    filemode='a',  # Append mode\n",
    "    format='%(asctime)s - %(levelname)s - %(message)s',\n",
    "    level=logging.INFO\n",
    ")\n",
    "\n",
    "try:\n",
    "    logging.info(\"CSV fayl o'qilmoqda: data_merged.csv\")\n",
    "    df = pd.read_csv(r\"C:\\Users\\Rasulbek907\\Desktop\\SML_2_Pr\\Data\\raw_data\\data_merged.csv\")\n",
    "    logging.info(f\"Fayl muvaffaqiyatli o'qildi. Satırlar soni: {len(df)} ustunlar soni: {len(df.columns)}\")\n",
    "except Exception as e:\n",
    "    logging.error(f\"CSV faylni o'qishda xatolik: {e}\")\n"
   ]
  },
  {
   "cell_type": "code",
   "execution_count": 3,
   "id": "8178a40a",
   "metadata": {},
   "outputs": [
    {
     "data": {
      "text/html": [
       "<div>\n",
       "<style scoped>\n",
       "    .dataframe tbody tr th:only-of-type {\n",
       "        vertical-align: middle;\n",
       "    }\n",
       "\n",
       "    .dataframe tbody tr th {\n",
       "        vertical-align: top;\n",
       "    }\n",
       "\n",
       "    .dataframe thead th {\n",
       "        text-align: right;\n",
       "    }\n",
       "</style>\n",
       "<table border=\"1\" class=\"dataframe\">\n",
       "  <thead>\n",
       "    <tr style=\"text-align: right;\">\n",
       "      <th></th>\n",
       "      <th>Unnamed: 0</th>\n",
       "      <th>id</th>\n",
       "      <th>week</th>\n",
       "      <th>center_id</th>\n",
       "      <th>meal_id</th>\n",
       "      <th>checkout_price</th>\n",
       "      <th>base_price</th>\n",
       "      <th>emailer_for_promotion</th>\n",
       "      <th>homepage_featured</th>\n",
       "      <th>num_orders</th>\n",
       "    </tr>\n",
       "  </thead>\n",
       "  <tbody>\n",
       "    <tr>\n",
       "      <th>0</th>\n",
       "      <td>0</td>\n",
       "      <td>1379560</td>\n",
       "      <td>1</td>\n",
       "      <td>55</td>\n",
       "      <td>1885</td>\n",
       "      <td>136.83</td>\n",
       "      <td>152.29</td>\n",
       "      <td>0</td>\n",
       "      <td>0</td>\n",
       "      <td>177.0</td>\n",
       "    </tr>\n",
       "    <tr>\n",
       "      <th>1</th>\n",
       "      <td>1</td>\n",
       "      <td>1466964</td>\n",
       "      <td>1</td>\n",
       "      <td>55</td>\n",
       "      <td>1993</td>\n",
       "      <td>136.83</td>\n",
       "      <td>135.83</td>\n",
       "      <td>0</td>\n",
       "      <td>0</td>\n",
       "      <td>270.0</td>\n",
       "    </tr>\n",
       "    <tr>\n",
       "      <th>2</th>\n",
       "      <td>2</td>\n",
       "      <td>1346989</td>\n",
       "      <td>1</td>\n",
       "      <td>55</td>\n",
       "      <td>2539</td>\n",
       "      <td>134.86</td>\n",
       "      <td>135.86</td>\n",
       "      <td>0</td>\n",
       "      <td>0</td>\n",
       "      <td>189.0</td>\n",
       "    </tr>\n",
       "    <tr>\n",
       "      <th>3</th>\n",
       "      <td>3</td>\n",
       "      <td>1338232</td>\n",
       "      <td>1</td>\n",
       "      <td>55</td>\n",
       "      <td>2139</td>\n",
       "      <td>339.50</td>\n",
       "      <td>437.53</td>\n",
       "      <td>0</td>\n",
       "      <td>0</td>\n",
       "      <td>54.0</td>\n",
       "    </tr>\n",
       "    <tr>\n",
       "      <th>4</th>\n",
       "      <td>4</td>\n",
       "      <td>1448490</td>\n",
       "      <td>1</td>\n",
       "      <td>55</td>\n",
       "      <td>2631</td>\n",
       "      <td>243.50</td>\n",
       "      <td>242.50</td>\n",
       "      <td>0</td>\n",
       "      <td>0</td>\n",
       "      <td>40.0</td>\n",
       "    </tr>\n",
       "  </tbody>\n",
       "</table>\n",
       "</div>"
      ],
      "text/plain": [
       "   Unnamed: 0       id  week  center_id  meal_id  checkout_price  base_price  \\\n",
       "0           0  1379560     1         55     1885          136.83      152.29   \n",
       "1           1  1466964     1         55     1993          136.83      135.83   \n",
       "2           2  1346989     1         55     2539          134.86      135.86   \n",
       "3           3  1338232     1         55     2139          339.50      437.53   \n",
       "4           4  1448490     1         55     2631          243.50      242.50   \n",
       "\n",
       "   emailer_for_promotion  homepage_featured  num_orders  \n",
       "0                      0                  0       177.0  \n",
       "1                      0                  0       270.0  \n",
       "2                      0                  0       189.0  \n",
       "3                      0                  0        54.0  \n",
       "4                      0                  0        40.0  "
      ]
     },
     "execution_count": 3,
     "metadata": {},
     "output_type": "execute_result"
    }
   ],
   "source": [
    "df.head()"
   ]
  },
  {
   "cell_type": "code",
   "execution_count": 4,
   "id": "fefc8d56",
   "metadata": {},
   "outputs": [
    {
     "name": "stdout",
     "output_type": "stream",
     "text": [
      "<class 'pandas.core.frame.DataFrame'>\n",
      "RangeIndex: 489121 entries, 0 to 489120\n",
      "Data columns (total 10 columns):\n",
      " #   Column                 Non-Null Count   Dtype  \n",
      "---  ------                 --------------   -----  \n",
      " 0   Unnamed: 0             489121 non-null  int64  \n",
      " 1   id                     489121 non-null  int64  \n",
      " 2   week                   489121 non-null  int64  \n",
      " 3   center_id              489121 non-null  int64  \n",
      " 4   meal_id                489121 non-null  int64  \n",
      " 5   checkout_price         489121 non-null  float64\n",
      " 6   base_price             489121 non-null  float64\n",
      " 7   emailer_for_promotion  489121 non-null  int64  \n",
      " 8   homepage_featured      489121 non-null  int64  \n",
      " 9   num_orders             456548 non-null  float64\n",
      "dtypes: float64(3), int64(7)\n",
      "memory usage: 37.3 MB\n"
     ]
    }
   ],
   "source": [
    "df.info()"
   ]
  },
  {
   "cell_type": "code",
   "execution_count": null,
   "id": "50b50aa9",
   "metadata": {},
   "outputs": [],
   "source": []
  },
  {
   "cell_type": "code",
   "execution_count": null,
   "id": "7dee7c62",
   "metadata": {},
   "outputs": [],
   "source": []
  }
 ],
 "metadata": {
  "kernelspec": {
   "display_name": "myvenv",
   "language": "python",
   "name": "python3"
  },
  "language_info": {
   "codemirror_mode": {
    "name": "ipython",
    "version": 3
   },
   "file_extension": ".py",
   "mimetype": "text/x-python",
   "name": "python",
   "nbconvert_exporter": "python",
   "pygments_lexer": "ipython3",
   "version": "3.13.7"
  }
 },
 "nbformat": 4,
 "nbformat_minor": 5
}
